{
 "cells": [
  {
   "cell_type": "code",
   "execution_count": null,
   "id": "61fb18f2-5bb7-428b-b960-4f340f4ab201",
   "metadata": {},
   "outputs": [],
   "source": [
    "%env DDS_CACHE_DISABLE=False\n",
    "%env DDSAPI_CLIENT_CACHE_DIR=/home/jovyan/pilot1/data/.cache\n",
    "%env DDSAPI_RC=/home/jovyan/work/ddsapirc"
   ]
  },
  {
   "cell_type": "code",
   "execution_count": null,
   "id": "af926906-23a6-4669-ace8-2c7158394e5f",
   "metadata": {},
   "outputs": [],
   "source": [
    "import ddsapi\n",
    "import xarray as xr"
   ]
  },
  {
   "cell_type": "markdown",
   "id": "d984a823-5157-4f0f-a2f6-a2aeeba5a290",
   "metadata": {},
   "source": [
    "### SIMPLE WORKFLOW\n",
    "- use functions to define the different steps\n",
    "- use parameters (so function can be reused for different inputs - especially input data)"
   ]
  },
  {
   "cell_type": "markdown",
   "id": "f4f15943-cebd-44fc-a6ed-67fd60872df9",
   "metadata": {},
   "source": [
    "#### Step1: Get input data"
   ]
  },
  {
   "cell_type": "code",
   "execution_count": null,
   "id": "27d60126-1afa-422d-97dd-0f36abe46a73",
   "metadata": {},
   "outputs": [],
   "source": [
    "def get_data(variables, area, time) -> xr.Dataset:\n",
    "    c = ddsapi.Client()\n",
    "    ds = c.retrieve(\"era5-downscaled-over-italy\", \"hourly\",\n",
    "        {\n",
    "            \"area\": area,\n",
    "            \"time\": time,\n",
    "            \"variable\": variables,\n",
    "            \"format\": \"netcdf\"\n",
    "        })\n",
    "    return ds"
   ]
  },
  {
   "cell_type": "markdown",
   "id": "8b19547d-bd0f-427d-b4c5-fd699aa22880",
   "metadata": {},
   "source": [
    "#### Step2: Process"
   ]
  },
  {
   "cell_type": "code",
   "execution_count": null,
   "id": "51672967-5c63-470d-bd53-ae09197ebda7",
   "metadata": {},
   "outputs": [],
   "source": [
    "def process(ds) -> xr.Dataset:\n",
    "    return ds.mean(dim=['rlat', 'rlon'])"
   ]
  },
  {
   "cell_type": "markdown",
   "id": "79fbd584-e171-4ff2-bcb3-519cc309f62b",
   "metadata": {},
   "source": [
    "#### Step3: Publish"
   ]
  },
  {
   "cell_type": "code",
   "execution_count": null,
   "id": "3991a509-6610-4ba4-bb24-e24799049b4a",
   "metadata": {},
   "outputs": [],
   "source": [
    "def publish(ds, filename) -> None:\n",
    "    ds.to_netcdf(f'/home/jovyan/pilot1/results/{filename}')"
   ]
  },
  {
   "cell_type": "markdown",
   "id": "37ab23d5-a1c7-407f-bffe-f8bfd9ad5972",
   "metadata": {},
   "source": [
    "#### Main Flow"
   ]
  },
  {
   "cell_type": "code",
   "execution_count": null,
   "id": "46ae50c2-0c95-4324-ab46-2f32927c672a",
   "metadata": {},
   "outputs": [],
   "source": [
    "variables = [ \"air_temperature\", \"precipitation_amount\" ]\n",
    "area = { \"north\": 44.1, \"south\": 40.1,  \"west\": 11.5, \"east\": 13.5 }\n",
    "time = { \"start\": \"2020-01-03T12:00\", \"stop\": \"2020-01-05T12:00\" }"
   ]
  },
  {
   "cell_type": "code",
   "execution_count": null,
   "id": "edd1b985-48a5-4e63-8b9e-cd221bf21ac6",
   "metadata": {},
   "outputs": [],
   "source": [
    "ds = get_data(variables, area, time)"
   ]
  },
  {
   "cell_type": "code",
   "execution_count": null,
   "id": "64f7dc82-f305-473e-940a-f5a733a40dd0",
   "metadata": {},
   "outputs": [],
   "source": [
    "processed_ds = process(ds)"
   ]
  },
  {
   "cell_type": "code",
   "execution_count": null,
   "id": "65cc242a-5347-4d09-93a4-73c54f57545d",
   "metadata": {},
   "outputs": [],
   "source": [
    "publish(processed_ds, 'average_t2m_prec.nc')"
   ]
  },
  {
   "cell_type": "code",
   "execution_count": null,
   "id": "fecab2f8-f1f3-4357-aa01-4708a9b65d16",
   "metadata": {},
   "outputs": [],
   "source": [
    "xr.open_dataset('/home/jovyan/pilot1/results/average_t2m_prec.nc', decode_coords='all')"
   ]
  },
  {
   "cell_type": "code",
   "execution_count": null,
   "id": "6d6db3b8-7656-4d97-a129-04defecabee9",
   "metadata": {},
   "outputs": [],
   "source": []
  }
 ],
 "metadata": {
  "kernelspec": {
   "display_name": "Python 3 (ipykernel)",
   "language": "python",
   "name": "python3"
  },
  "language_info": {
   "codemirror_mode": {
    "name": "ipython",
    "version": 3
   },
   "file_extension": ".py",
   "mimetype": "text/x-python",
   "name": "python",
   "nbconvert_exporter": "python",
   "pygments_lexer": "ipython3",
   "version": "3.11.6"
  }
 },
 "nbformat": 4,
 "nbformat_minor": 5
}
