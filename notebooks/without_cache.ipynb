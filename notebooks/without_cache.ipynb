{
 "cells": [
  {
   "cell_type": "code",
   "execution_count": 1,
   "id": "808e3b75-be64-44a2-9f4e-3f6fe124c529",
   "metadata": {},
   "outputs": [],
   "source": [
    "import ddsapi\n",
    "import xarray as xr"
   ]
  },
  {
   "cell_type": "code",
   "execution_count": null,
   "id": "0c8c3917-ff31-40af-8afd-02adc0fa1e42",
   "metadata": {},
   "outputs": [],
   "source": [
    "c = ddsapi.Client()"
   ]
  },
  {
   "cell_type": "code",
   "execution_count": null,
   "id": "bc22f44b-cbb1-42bf-965e-d5836a196f8c",
   "metadata": {},
   "outputs": [],
   "source": [
    "c.retrieve(\"era5-downscaled-over-italy\", \"hourly\",\n",
    "{\n",
    "    \"area\": { \"north\": 44.1, \"south\": 40.1,  \"west\": 11.5, \"east\": 13.5 },\n",
    "    \"time\": { \"start\": \"2020-01-03T12:00\", \"stop\": \"2020-01-05T12:00\" },\n",
    "    \"variable\": [ \"air_temperature\", \"precipitation_amount\" ],\n",
    "    \"format\": \"netcdf\"\n",
    "}, \"/home/jovyan/pilot1/data/era5-downscaled_2020_01.nc\")"
   ]
  },
  {
   "cell_type": "code",
   "execution_count": null,
   "id": "ca947771-83bf-4e9e-9d3e-58d483369901",
   "metadata": {},
   "outputs": [],
   "source": [
    "ds = xr.open_dataset('/home/jovyan/work/data/era5-downscaled_2020_01.nc')"
   ]
  },
  {
   "cell_type": "code",
   "execution_count": null,
   "id": "e6e2bde4-70ce-4a59-8115-415926ffc554",
   "metadata": {},
   "outputs": [],
   "source": [
    "ds"
   ]
  },
  {
   "cell_type": "code",
   "execution_count": null,
   "id": "b8e75045-ab6e-4eba-a531-a27cb2234880",
   "metadata": {
    "scrolled": true
   },
   "outputs": [],
   "source": [
    "ds = c.retrieve(\"sentinel-2\", \"level-2A\",\n",
    "{\n",
    "    \"sensing_time\": \"2020-01-02\",\n",
    "    \"resolution\": [\"R60m\"],\n",
    "    \"band\": \"B03\",\n",
    "    \"region\": \"Niger\",\n",
    "    \"format\": \"netcdf\"\n",
    "}, \"/home/jovyan/work/data/sentinel.nc\")"
   ]
  },
  {
   "cell_type": "code",
   "execution_count": null,
   "id": "fdb911e5-1579-495e-ac7c-7166a05f826d",
   "metadata": {},
   "outputs": [],
   "source": [
    "import xarray as xr\n",
    "ds = xr.open_dataset('/home/jovyan/mystorage/data/sentinel/R60m_B03_sentinel-2_level-2A_2d093915-401f-44c6-975c-e9e704a10de4_R60m_B03_315261.nc')"
   ]
  },
  {
   "cell_type": "code",
   "execution_count": null,
   "id": "854d056a-c9ee-4d98-a936-3d18f89c64a8",
   "metadata": {},
   "outputs": [],
   "source": [
    "ds"
   ]
  },
  {
   "cell_type": "code",
   "execution_count": null,
   "id": "345fc046-3fb9-45a0-b055-7705637fee4c",
   "metadata": {},
   "outputs": [],
   "source": []
  }
 ],
 "metadata": {
  "kernelspec": {
   "display_name": "Python 3 (ipykernel)",
   "language": "python",
   "name": "python3"
  },
  "language_info": {
   "codemirror_mode": {
    "name": "ipython",
    "version": 3
   },
   "file_extension": ".py",
   "mimetype": "text/x-python",
   "name": "python",
   "nbconvert_exporter": "python",
   "pygments_lexer": "ipython3",
   "version": "3.11.6"
  }
 },
 "nbformat": 4,
 "nbformat_minor": 5
}
